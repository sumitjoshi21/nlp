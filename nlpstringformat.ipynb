{
  "nbformat": 4,
  "nbformat_minor": 0,
  "metadata": {
    "colab": {
      "name": "nlpstringformat.ipynb",
      "provenance": []
    },
    "kernelspec": {
      "name": "python3",
      "display_name": "Python 3"
    }
  },
  "cells": [
    {
      "cell_type": "code",
      "metadata": {
        "id": "YswvclvnqyxB",
        "colab_type": "code",
        "colab": {
          "base_uri": "https://localhost:8080/",
          "height": 34
        },
        "outputId": "61dc6d2c-3567-465b-e188-b65f8822595b"
      },
      "source": [
        "print(\"sharemarkethub\")"
      ],
      "execution_count": 1,
      "outputs": [
        {
          "output_type": "stream",
          "text": [
            "sharemarkethub\n"
          ],
          "name": "stdout"
        }
      ]
    },
    {
      "cell_type": "code",
      "metadata": {
        "id": "AZ119OAAq5CW",
        "colab_type": "code",
        "colab": {
          "base_uri": "https://localhost:8080/",
          "height": 34
        },
        "outputId": "b789ba4a-2d05-43fb-84cc-b176e066aa17"
      },
      "source": [
        "name = \"sharemarkethub\"\n",
        "print(\"My Website name is {}\".format(name))"
      ],
      "execution_count": 4,
      "outputs": [
        {
          "output_type": "stream",
          "text": [
            "My Website name is sharemarkethub\n"
          ],
          "name": "stdout"
        }
      ]
    },
    {
      "cell_type": "code",
      "metadata": {
        "id": "ZoCSMgqdrF1S",
        "colab_type": "code",
        "colab": {
          "base_uri": "https://localhost:8080/",
          "height": 34
        },
        "outputId": "849f6815-da29-449e-b1dc-5214a4ea5f07"
      },
      "source": [
        "print(f\"My youtube channel name is {name}\")"
      ],
      "execution_count": 5,
      "outputs": [
        {
          "output_type": "stream",
          "text": [
            "My youtube channel name is sharemarkethub\n"
          ],
          "name": "stdout"
        }
      ]
    },
    {
      "cell_type": "code",
      "metadata": {
        "id": "H24aKvyPrZw0",
        "colab_type": "code",
        "colab": {}
      },
      "source": [
        "spam = ['a','b','c','d']"
      ],
      "execution_count": 6,
      "outputs": []
    },
    {
      "cell_type": "code",
      "metadata": {
        "id": "kw9Uq_sYrm97",
        "colab_type": "code",
        "colab": {
          "base_uri": "https://localhost:8080/",
          "height": 34
        },
        "outputId": "2d61746b-4d04-4e55-efa7-4a49463eedeb"
      },
      "source": [
        "print(f\"Value of spam {spam[0]}\")"
      ],
      "execution_count": 7,
      "outputs": [
        {
          "output_type": "stream",
          "text": [
            "Value of spam a\n"
          ],
          "name": "stdout"
        }
      ]
    },
    {
      "cell_type": "code",
      "metadata": {
        "id": "H3rxVnpcru0a",
        "colab_type": "code",
        "colab": {}
      },
      "source": [
        "dict = {'var1':20,'var2':45}"
      ],
      "execution_count": 8,
      "outputs": []
    },
    {
      "cell_type": "code",
      "metadata": {
        "id": "A_wRnQRlr5MQ",
        "colab_type": "code",
        "colab": {
          "base_uri": "https://localhost:8080/",
          "height": 34
        },
        "outputId": "bf8faa47-ad35-4a9d-9632-dc24e82298b6"
      },
      "source": [
        "print(f\"Value of dict {dict['var1']}\")"
      ],
      "execution_count": 9,
      "outputs": [
        {
          "output_type": "stream",
          "text": [
            "Value of dict 20\n"
          ],
          "name": "stdout"
        }
      ]
    },
    {
      "cell_type": "code",
      "metadata": {
        "id": "Si5PI-PUsB0_",
        "colab_type": "code",
        "colab": {}
      },
      "source": [
        "college=[('Name ','Branch','Year'),\n",
        "        ('Ankit','ECE','2'),\n",
        "        ('Mayank','ECE','3'),\n",
        "        ('Raj','IT','1')]"
      ],
      "execution_count": 12,
      "outputs": []
    },
    {
      "cell_type": "code",
      "metadata": {
        "id": "PgodTY3OtBEi",
        "colab_type": "code",
        "colab": {
          "base_uri": "https://localhost:8080/",
          "height": 85
        },
        "outputId": "ee2c0bec-191f-439e-ada7-62fe9363df8f"
      },
      "source": [
        "for data in college:\n",
        "  print(f\"student name is {data[0]}\")"
      ],
      "execution_count": 14,
      "outputs": [
        {
          "output_type": "stream",
          "text": [
            "student name is Name \n",
            "student name is Ankit\n",
            "student name is Mayank\n",
            "student name is Raj\n"
          ],
          "name": "stdout"
        }
      ]
    },
    {
      "cell_type": "code",
      "metadata": {
        "id": "32ya_B_utOBY",
        "colab_type": "code",
        "colab": {
          "base_uri": "https://localhost:8080/",
          "height": 85
        },
        "outputId": "ee566151-22c1-49fe-8e36-0d68a0646cf5"
      },
      "source": [
        "for name ,branch ,year in college:\n",
        "  print(f\"Name : {year}\")"
      ],
      "execution_count": 17,
      "outputs": [
        {
          "output_type": "stream",
          "text": [
            "Name : Year\n",
            "Name : 2\n",
            "Name : 3\n",
            "Name : 1\n"
          ],
          "name": "stdout"
        }
      ]
    },
    {
      "cell_type": "code",
      "metadata": {
        "id": "hlIpRy-FtkFe",
        "colab_type": "code",
        "colab": {}
      },
      "source": [
        "from datetime import datetime "
      ],
      "execution_count": 18,
      "outputs": []
    },
    {
      "cell_type": "code",
      "metadata": {
        "id": "iLId83WAvgF2",
        "colab_type": "code",
        "colab": {}
      },
      "source": [
        "present = datetime(year =2019,month=10,day =25)"
      ],
      "execution_count": 19,
      "outputs": []
    },
    {
      "cell_type": "code",
      "metadata": {
        "id": "vLWWH2mkvpbe",
        "colab_type": "code",
        "colab": {
          "base_uri": "https://localhost:8080/",
          "height": 34
        },
        "outputId": "d2e4fd01-2e30-430e-f06e-b4dcf1eedc1b"
      },
      "source": [
        "print(f\"{present}\")"
      ],
      "execution_count": 20,
      "outputs": [
        {
          "output_type": "stream",
          "text": [
            "2019-10-25 00:00:00\n"
          ],
          "name": "stdout"
        }
      ]
    },
    {
      "cell_type": "code",
      "metadata": {
        "id": "9MrL3d05vxRx",
        "colab_type": "code",
        "colab": {
          "base_uri": "https://localhost:8080/",
          "height": 34
        },
        "outputId": "baaa1742-063e-491d-8307-5bd62ef4e412"
      },
      "source": [
        "present"
      ],
      "execution_count": 21,
      "outputs": [
        {
          "output_type": "execute_result",
          "data": {
            "text/plain": [
              "datetime.datetime(2019, 10, 25, 0, 0)"
            ]
          },
          "metadata": {
            "tags": []
          },
          "execution_count": 21
        }
      ]
    },
    {
      "cell_type": "code",
      "metadata": {
        "id": "YRVGOB0CvykU",
        "colab_type": "code",
        "colab": {
          "base_uri": "https://localhost:8080/",
          "height": 34
        },
        "outputId": "ce7c755f-8a33-4a3e-f718-76c0c4a8fd31"
      },
      "source": [
        "print(f\"{present: %B}\")"
      ],
      "execution_count": 23,
      "outputs": [
        {
          "output_type": "stream",
          "text": [
            " October\n"
          ],
          "name": "stdout"
        }
      ]
    },
    {
      "cell_type": "code",
      "metadata": {
        "id": "eSRr69zLv-Dn",
        "colab_type": "code",
        "colab": {}
      },
      "source": [
        ""
      ],
      "execution_count": null,
      "outputs": []
    }
  ]
}