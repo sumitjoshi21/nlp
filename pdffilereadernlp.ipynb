{
  "nbformat": 4,
  "nbformat_minor": 0,
  "metadata": {
    "colab": {
      "name": "pdf file .ipynb",
      "provenance": [],
      "collapsed_sections": []
    },
    "kernelspec": {
      "name": "python3",
      "display_name": "Python 3"
    }
  },
  "cells": [
    {
      "cell_type": "code",
      "metadata": {
        "id": "eTPi4UEDAaJE",
        "colab_type": "code",
        "colab": {
          "base_uri": "https://localhost:8080/",
          "height": 34
        },
        "outputId": "53d6628a-b397-4ad0-af09-1de3c961db52"
      },
      "source": [
        "!pip install PyPDF2"
      ],
      "execution_count": 10,
      "outputs": [
        {
          "output_type": "stream",
          "text": [
            "Requirement already satisfied: PyPDF2 in /usr/local/lib/python3.6/dist-packages (1.26.0)\n"
          ],
          "name": "stdout"
        }
      ]
    },
    {
      "cell_type": "code",
      "metadata": {
        "id": "wZ3TK8TyAuH0",
        "colab_type": "code",
        "colab": {}
      },
      "source": [
        "from google.colab import files\n",
        "import PyPDF2"
      ],
      "execution_count": 9,
      "outputs": []
    },
    {
      "cell_type": "code",
      "metadata": {
        "id": "6YuN6bktA--x",
        "colab_type": "code",
        "colab": {
          "resources": {
            "http://localhost:8080/nbextensions/google.colab/files.js": {
              "data": "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",
              "ok": true,
              "headers": [
                [
                  "content-type",
                  "application/javascript"
                ]
              ],
              "status": 200,
              "status_text": ""
            }
          },
          "base_uri": "https://localhost:8080/",
          "height": 72
        },
        "outputId": "ac7a1876-68ae-4e77-9b40-31681a9a34df"
      },
      "source": [
        "upload = files.upload()\n"
      ],
      "execution_count": 11,
      "outputs": [
        {
          "output_type": "display_data",
          "data": {
            "text/html": [
              "\n",
              "     <input type=\"file\" id=\"files-f2c74dfa-e63a-403a-8a64-ce100e61a492\" name=\"files[]\" multiple disabled\n",
              "        style=\"border:none\" />\n",
              "     <output id=\"result-f2c74dfa-e63a-403a-8a64-ce100e61a492\">\n",
              "      Upload widget is only available when the cell has been executed in the\n",
              "      current browser session. Please rerun this cell to enable.\n",
              "      </output>\n",
              "      <script src=\"/nbextensions/google.colab/files.js\"></script> "
            ],
            "text/plain": [
              "<IPython.core.display.HTML object>"
            ]
          },
          "metadata": {
            "tags": []
          }
        },
        {
          "output_type": "stream",
          "text": [
            "Saving 18A1016542.pdf to 18A1016542.pdf\n"
          ],
          "name": "stdout"
        }
      ]
    },
    {
      "cell_type": "code",
      "metadata": {
        "id": "SbA-L-0dBs9c",
        "colab_type": "code",
        "colab": {
          "base_uri": "https://localhost:8080/",
          "height": 34
        },
        "outputId": "ff959d55-573e-4b97-b064-364025ad2a0c"
      },
      "source": [
        "!ls"
      ],
      "execution_count": 12,
      "outputs": [
        {
          "output_type": "stream",
          "text": [
            "'18A1016542  final sheet.pdf'   18A1016542.pdf\t sample_data\n"
          ],
          "name": "stdout"
        }
      ]
    },
    {
      "cell_type": "code",
      "metadata": {
        "id": "CMmV0ep_Erk9",
        "colab_type": "code",
        "colab": {}
      },
      "source": [
        "myfile = open('18A1016542.pdf',mode ='rb')\n"
      ],
      "execution_count": 13,
      "outputs": []
    },
    {
      "cell_type": "code",
      "metadata": {
        "id": "DfLSNBXRE2t4",
        "colab_type": "code",
        "colab": {}
      },
      "source": [
        "pdf_reader = PyPDF2.PdfFileReader(myfile)"
      ],
      "execution_count": 14,
      "outputs": []
    },
    {
      "cell_type": "code",
      "metadata": {
        "id": "isGA6e2TE91o",
        "colab_type": "code",
        "colab": {
          "base_uri": "https://localhost:8080/",
          "height": 34
        },
        "outputId": "4d8c9db2-c991-4ed1-83bf-9ff68fac91d2"
      },
      "source": [
        "pdf_reader.numPages"
      ],
      "execution_count": 15,
      "outputs": [
        {
          "output_type": "execute_result",
          "data": {
            "text/plain": [
              "1"
            ]
          },
          "metadata": {
            "tags": []
          },
          "execution_count": 15
        }
      ]
    },
    {
      "cell_type": "code",
      "metadata": {
        "id": "91_dxP9vFTCs",
        "colab_type": "code",
        "colab": {}
      },
      "source": [
        "page_one =pdf_reader.getPage(0)"
      ],
      "execution_count": 16,
      "outputs": []
    },
    {
      "cell_type": "code",
      "metadata": {
        "id": "s8gtreaNFa9z",
        "colab_type": "code",
        "colab": {
          "base_uri": "https://localhost:8080/",
          "height": 137
        },
        "outputId": "611c81eb-919b-432b-aadf-220c047c6252"
      },
      "source": [
        "page_one.extractText()"
      ],
      "execution_count": 17,
      "outputs": [
        {
          "output_type": "execute_result",
          "data": {
            "application/vnd.google.colaboratory.intrinsic+json": {
              "type": "string"
            },
            "text/plain": [
              "'STATEMENT OF MARKS\\nCourse Name  Enrollment No :Session :SubjectMarks ObtainedTWO YEAR POST GRADUATE DIPLOMA IN  MANAGEMENT\\nSUMIT JOSHI18A1016542JANUARY,2018\\n::Module :1 67ECONOMIC ENVIRONMENT OF BUSINESSECOC514 73FINANCIAL ACCOUNTING\\nFINC512 64BUSINESS COMMUNICATION\\nMGTC515 76MARKETING MANAGEMENTMKTC522 80PRINCIPLES OF MANAGEMENTPGTC511\\nModule :2 63CORPORATE FINANCE\\nFINC521 60ORGANIZATION BEHAVIOR\\nHRMC523 73IT TOOLS\\nITSC525 52OPERATIONS MANAGEMENT\\nOPMC524 56QUANTITATIVE METHODS\\nQTMC522Module :3 74LEGAL & REGULATORY ENVIRONMENT OF BUSINESS\\nIMTC631 66BUSINESS POLICYIMTC632 81MANAGING STARTUPS\\nIMTC633 69DATA SCIENCE\\nIMTC634 62ETHICS & CORPORATE GOVERNANCE\\nIMTC635Module :4 62FINANCIAL RISK MANAGEMENT\\nFINC601 64MANAGEMENT OF FINANCIAL SERVICES\\nFINC631 75FINANCIAL ANALYSIS & BUSINESS VALUATION\\nFINC632 68SECURITY ANALYSIS & PORTFOLIO MANAGEMENT\\nFINC641 125PROJECT(equivalent to two subjects)IMTC642TOTAL MARKS OBTAINED\\nIN FIGUREIN WORDS Out of PERCENTAGE  \\n:  DIVISION  :   RESULT  \\n:Dean Academics\\nONE THOUSAND FOUR HUNDRED TENPASSED\\n 1410 2100 67.14FIRST::Date :NOTE :Maximum Marks for Each Subject :100%March 11, 2020\\nThis is a web-based statement of marks. This is valid for all official purpose.'"
            ]
          },
          "metadata": {
            "tags": []
          },
          "execution_count": 17
        }
      ]
    },
    {
      "cell_type": "code",
      "metadata": {
        "id": "GbAj_tLQF5JL",
        "colab_type": "code",
        "colab": {
          "base_uri": "https://localhost:8080/",
          "height": 459
        },
        "outputId": "f0ac6cad-2fcc-4767-dd56-ac4c8b12509c"
      },
      "source": [
        "print(page_one.extractText())"
      ],
      "execution_count": 18,
      "outputs": [
        {
          "output_type": "stream",
          "text": [
            "STATEMENT OF MARKS\n",
            "Course Name  Enrollment No :Session :SubjectMarks ObtainedTWO YEAR POST GRADUATE DIPLOMA IN  MANAGEMENT\n",
            "SUMIT JOSHI18A1016542JANUARY,2018\n",
            "::Module :1 67ECONOMIC ENVIRONMENT OF BUSINESSECOC514 73FINANCIAL ACCOUNTING\n",
            "FINC512 64BUSINESS COMMUNICATION\n",
            "MGTC515 76MARKETING MANAGEMENTMKTC522 80PRINCIPLES OF MANAGEMENTPGTC511\n",
            "Module :2 63CORPORATE FINANCE\n",
            "FINC521 60ORGANIZATION BEHAVIOR\n",
            "HRMC523 73IT TOOLS\n",
            "ITSC525 52OPERATIONS MANAGEMENT\n",
            "OPMC524 56QUANTITATIVE METHODS\n",
            "QTMC522Module :3 74LEGAL & REGULATORY ENVIRONMENT OF BUSINESS\n",
            "IMTC631 66BUSINESS POLICYIMTC632 81MANAGING STARTUPS\n",
            "IMTC633 69DATA SCIENCE\n",
            "IMTC634 62ETHICS & CORPORATE GOVERNANCE\n",
            "IMTC635Module :4 62FINANCIAL RISK MANAGEMENT\n",
            "FINC601 64MANAGEMENT OF FINANCIAL SERVICES\n",
            "FINC631 75FINANCIAL ANALYSIS & BUSINESS VALUATION\n",
            "FINC632 68SECURITY ANALYSIS & PORTFOLIO MANAGEMENT\n",
            "FINC641 125PROJECT(equivalent to two subjects)IMTC642TOTAL MARKS OBTAINED\n",
            "IN FIGUREIN WORDS Out of PERCENTAGE  \n",
            ":  DIVISION  :   RESULT  \n",
            ":Dean Academics\n",
            "ONE THOUSAND FOUR HUNDRED TENPASSED\n",
            " 1410 2100 67.14FIRST::Date :NOTE :Maximum Marks for Each Subject :100%March 11, 2020\n",
            "This is a web-based statement of marks. This is valid for all official purpose.\n"
          ],
          "name": "stdout"
        }
      ]
    },
    {
      "cell_type": "code",
      "metadata": {
        "id": "OnPpdC-HF9T_",
        "colab_type": "code",
        "colab": {}
      },
      "source": [
        "myfile.close()"
      ],
      "execution_count": 19,
      "outputs": []
    },
    {
      "cell_type": "code",
      "metadata": {
        "id": "lENn1CixGAob",
        "colab_type": "code",
        "colab": {}
      },
      "source": [
        "p = open('18A1016542.pdf',mode='rb')\n"
      ],
      "execution_count": 21,
      "outputs": []
    },
    {
      "cell_type": "code",
      "metadata": {
        "id": "Me73nL5_GMyG",
        "colab_type": "code",
        "colab": {}
      },
      "source": [
        "pdf_reader =PyPDF2.PdfFileReader(p)"
      ],
      "execution_count": 22,
      "outputs": []
    },
    {
      "cell_type": "code",
      "metadata": {
        "id": "YF9l_mckGcdU",
        "colab_type": "code",
        "colab": {}
      },
      "source": [
        "first_page = pdf_reader.getPage(0)"
      ],
      "execution_count": 23,
      "outputs": []
    },
    {
      "cell_type": "code",
      "metadata": {
        "id": "MqSNV9qnGjaq",
        "colab_type": "code",
        "colab": {}
      },
      "source": [
        "pdf_writer = PyPDF2.PdfFileWriter()"
      ],
      "execution_count": 24,
      "outputs": []
    },
    {
      "cell_type": "code",
      "metadata": {
        "id": "ofT2h3lwGpc4",
        "colab_type": "code",
        "colab": {}
      },
      "source": [
        "pdf_writer.addPage(first_page)"
      ],
      "execution_count": 25,
      "outputs": []
    },
    {
      "cell_type": "code",
      "metadata": {
        "id": "egHp18lgJ6DZ",
        "colab_type": "code",
        "colab": {}
      },
      "source": [
        "pdf_output = open('Sample2.pdf',mode='wb')"
      ],
      "execution_count": 26,
      "outputs": []
    },
    {
      "cell_type": "code",
      "metadata": {
        "id": "MP5ZjNKYKCSv",
        "colab_type": "code",
        "colab": {}
      },
      "source": [
        "pdf_writer.write(pdf_output)"
      ],
      "execution_count": 27,
      "outputs": []
    },
    {
      "cell_type": "code",
      "metadata": {
        "id": "ph0StSKiKHmI",
        "colab_type": "code",
        "colab": {}
      },
      "source": [
        "pdf_output.close()"
      ],
      "execution_count": 28,
      "outputs": []
    },
    {
      "cell_type": "code",
      "metadata": {
        "id": "ABa2PYz0KKBX",
        "colab_type": "code",
        "colab": {}
      },
      "source": [
        "p.close()"
      ],
      "execution_count": 29,
      "outputs": []
    },
    {
      "cell_type": "code",
      "metadata": {
        "id": "Z9bCDXiFKLWi",
        "colab_type": "code",
        "colab": {}
      },
      "source": [
        "file_new = open('Sample2.pdf',mode ='rb')\n"
      ],
      "execution_count": 30,
      "outputs": []
    },
    {
      "cell_type": "code",
      "metadata": {
        "id": "WtrcBPcBKSBF",
        "colab_type": "code",
        "colab": {}
      },
      "source": [
        "pdf_reader =PyPDF2.PdfFileReader(file_new)"
      ],
      "execution_count": 31,
      "outputs": []
    },
    {
      "cell_type": "code",
      "metadata": {
        "id": "ONyiU7n8KVzl",
        "colab_type": "code",
        "colab": {}
      },
      "source": [
        "page_two =pdf_reader.getPage(0)"
      ],
      "execution_count": 32,
      "outputs": []
    },
    {
      "cell_type": "code",
      "metadata": {
        "id": "MepS-Od0KbeH",
        "colab_type": "code",
        "colab": {
          "base_uri": "https://localhost:8080/",
          "height": 459
        },
        "outputId": "c39cd3b3-289b-4393-e6a0-e00bc2133a55"
      },
      "source": [
        "print(page_two.extractText())"
      ],
      "execution_count": 34,
      "outputs": [
        {
          "output_type": "stream",
          "text": [
            "STATEMENT OF MARKS\n",
            "Course Name  Enrollment No :Session :SubjectMarks ObtainedTWO YEAR POST GRADUATE DIPLOMA IN  MANAGEMENT\n",
            "SUMIT JOSHI18A1016542JANUARY,2018\n",
            "::Module :1 67ECONOMIC ENVIRONMENT OF BUSINESSECOC514 73FINANCIAL ACCOUNTING\n",
            "FINC512 64BUSINESS COMMUNICATION\n",
            "MGTC515 76MARKETING MANAGEMENTMKTC522 80PRINCIPLES OF MANAGEMENTPGTC511\n",
            "Module :2 63CORPORATE FINANCE\n",
            "FINC521 60ORGANIZATION BEHAVIOR\n",
            "HRMC523 73IT TOOLS\n",
            "ITSC525 52OPERATIONS MANAGEMENT\n",
            "OPMC524 56QUANTITATIVE METHODS\n",
            "QTMC522Module :3 74LEGAL & REGULATORY ENVIRONMENT OF BUSINESS\n",
            "IMTC631 66BUSINESS POLICYIMTC632 81MANAGING STARTUPS\n",
            "IMTC633 69DATA SCIENCE\n",
            "IMTC634 62ETHICS & CORPORATE GOVERNANCE\n",
            "IMTC635Module :4 62FINANCIAL RISK MANAGEMENT\n",
            "FINC601 64MANAGEMENT OF FINANCIAL SERVICES\n",
            "FINC631 75FINANCIAL ANALYSIS & BUSINESS VALUATION\n",
            "FINC632 68SECURITY ANALYSIS & PORTFOLIO MANAGEMENT\n",
            "FINC641 125PROJECT(equivalent to two subjects)IMTC642TOTAL MARKS OBTAINED\n",
            "IN FIGUREIN WORDS Out of PERCENTAGE  \n",
            ":  DIVISION  :   RESULT  \n",
            ":Dean Academics\n",
            "ONE THOUSAND FOUR HUNDRED TENPASSED\n",
            " 1410 2100 67.14FIRST::Date :NOTE :Maximum Marks for Each Subject :100%March 11, 2020\n",
            "This is a web-based statement of marks. This is valid for all official purpose.\n"
          ],
          "name": "stdout"
        }
      ]
    },
    {
      "cell_type": "code",
      "metadata": {
        "id": "MIfAXu92Kdbi",
        "colab_type": "code",
        "colab": {}
      },
      "source": [
        "p = open('18A1016542.pdf',mode ='rb')\n",
        "pdf_text = []\n",
        "pdf_reader = PyPDF2.PdfFileReader(p)\n",
        "for q in range(pdf_reader.numPages):\n",
        "  page = pdf_reader.getPage(q)\n",
        "  pdf_text.append(page.extractText())\n",
        "\n",
        "p.close()"
      ],
      "execution_count": 37,
      "outputs": []
    },
    {
      "cell_type": "code",
      "metadata": {
        "id": "JkX650xlLr4j",
        "colab_type": "code",
        "colab": {
          "base_uri": "https://localhost:8080/",
          "height": 34
        },
        "outputId": "583d01e8-9342-42a9-a8b8-bb06772877a3"
      },
      "source": [
        "len(pdf_text)"
      ],
      "execution_count": 39,
      "outputs": [
        {
          "output_type": "execute_result",
          "data": {
            "text/plain": [
              "1"
            ]
          },
          "metadata": {
            "tags": []
          },
          "execution_count": 39
        }
      ]
    },
    {
      "cell_type": "code",
      "metadata": {
        "id": "Yr35tX9AL8ym",
        "colab_type": "code",
        "colab": {
          "base_uri": "https://localhost:8080/",
          "height": 493
        },
        "outputId": "cb3ea39c-9377-45b4-aae0-4745461ec351"
      },
      "source": [
        "for page in pdf_text:\n",
        "  print(page)\n",
        "  print('\\n')"
      ],
      "execution_count": 40,
      "outputs": [
        {
          "output_type": "stream",
          "text": [
            "STATEMENT OF MARKS\n",
            "Course Name  Enrollment No :Session :SubjectMarks ObtainedTWO YEAR POST GRADUATE DIPLOMA IN  MANAGEMENT\n",
            "SUMIT JOSHI18A1016542JANUARY,2018\n",
            "::Module :1 67ECONOMIC ENVIRONMENT OF BUSINESSECOC514 73FINANCIAL ACCOUNTING\n",
            "FINC512 64BUSINESS COMMUNICATION\n",
            "MGTC515 76MARKETING MANAGEMENTMKTC522 80PRINCIPLES OF MANAGEMENTPGTC511\n",
            "Module :2 63CORPORATE FINANCE\n",
            "FINC521 60ORGANIZATION BEHAVIOR\n",
            "HRMC523 73IT TOOLS\n",
            "ITSC525 52OPERATIONS MANAGEMENT\n",
            "OPMC524 56QUANTITATIVE METHODS\n",
            "QTMC522Module :3 74LEGAL & REGULATORY ENVIRONMENT OF BUSINESS\n",
            "IMTC631 66BUSINESS POLICYIMTC632 81MANAGING STARTUPS\n",
            "IMTC633 69DATA SCIENCE\n",
            "IMTC634 62ETHICS & CORPORATE GOVERNANCE\n",
            "IMTC635Module :4 62FINANCIAL RISK MANAGEMENT\n",
            "FINC601 64MANAGEMENT OF FINANCIAL SERVICES\n",
            "FINC631 75FINANCIAL ANALYSIS & BUSINESS VALUATION\n",
            "FINC632 68SECURITY ANALYSIS & PORTFOLIO MANAGEMENT\n",
            "FINC641 125PROJECT(equivalent to two subjects)IMTC642TOTAL MARKS OBTAINED\n",
            "IN FIGUREIN WORDS Out of PERCENTAGE  \n",
            ":  DIVISION  :   RESULT  \n",
            ":Dean Academics\n",
            "ONE THOUSAND FOUR HUNDRED TENPASSED\n",
            " 1410 2100 67.14FIRST::Date :NOTE :Maximum Marks for Each Subject :100%March 11, 2020\n",
            "This is a web-based statement of marks. This is valid for all official purpose.\n",
            "\n",
            "\n"
          ],
          "name": "stdout"
        }
      ]
    },
    {
      "cell_type": "code",
      "metadata": {
        "id": "fDYkgsv2MGGF",
        "colab_type": "code",
        "colab": {}
      },
      "source": [
        ""
      ],
      "execution_count": null,
      "outputs": []
    }
  ]
}